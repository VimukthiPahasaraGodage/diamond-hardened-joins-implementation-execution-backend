{
 "cells": [
  {
   "cell_type": "code",
   "execution_count": 1,
   "id": "4af8254f-b6d0-4ace-bb78-b4aa23a4a124",
   "metadata": {},
   "outputs": [],
   "source": [
    "def extract_bindable_filters(input_file, output_file):\n",
    "    with open(input_file, 'r') as infile:\n",
    "        lines = infile.readlines()\n",
    "\n",
    "    # Filter and trim lines with 'BindableFilter'\n",
    "    bindable_filters = [line.strip() for line in lines if \"BindableFilter\" in line]\n",
    "\n",
    "    # Write to output file\n",
    "    with open(output_file, 'w') as outfile:\n",
    "        for line in bindable_filters:\n",
    "            outfile.write(line + '\\n')\n",
    "\n",
    "# Example usage\n",
    "extract_bindable_filters(\"../calcite_outputs/physical_plans.txt\", \"bindable_filters.txt\")\n"
   ]
  },
  {
   "cell_type": "code",
   "execution_count": 4,
   "id": "ea2f152f-878f-451a-ab14-3d37f85b5c07",
   "metadata": {},
   "outputs": [],
   "source": [
    "def extract_bindable_filters(input_file, output_file):\n",
    "    with open(input_file, 'r') as infile:\n",
    "        lines = infile.readlines()\n",
    "\n",
    "    # Filter and trim lines with 'BindableFilter'\n",
    "    bindable_filters = [line.strip() for line in lines if \"BindableAggregate\" in line]\n",
    "\n",
    "    # Write to output file\n",
    "    with open(output_file, 'w') as outfile:\n",
    "        for line in bindable_filters:\n",
    "            outfile.write(line + '\\n')\n",
    "\n",
    "# Example usage\n",
    "extract_bindable_filters(\"../calcite_outputs/physical_plans.txt\", \"bindable_aggregates.txt\")\n"
   ]
  },
  {
   "cell_type": "code",
   "execution_count": 7,
   "id": "24877aa8-411a-41ac-8603-6a4bb982e76d",
   "metadata": {},
   "outputs": [],
   "source": [
    "def extract_bindable_filters(input_file, output_file):\n",
    "    with open(input_file, 'r') as infile:\n",
    "        lines = infile.readlines()\n",
    "\n",
    "    # Filter and trim lines with 'BindableFilter'\n",
    "    bindable_filters = [line.strip() for line in lines if \"BindableJoin\" in line]\n",
    "\n",
    "    # Write to output file\n",
    "    with open(output_file, 'w') as outfile:\n",
    "        for line in bindable_filters:\n",
    "            outfile.write(line + '\\n')\n",
    "\n",
    "# Example usage\n",
    "extract_bindable_filters(\"../calcite_outputs/physical_plans.txt\", \"bindable_joins.txt\")\n"
   ]
  },
  {
   "cell_type": "code",
   "execution_count": 10,
   "id": "d6651f7d-d4f6-41a7-8fa1-63c1a17ec521",
   "metadata": {},
   "outputs": [],
   "source": [
    "def extract_bindable_filters(input_file, output_file):\n",
    "    with open(input_file, 'r') as infile:\n",
    "        lines = infile.readlines()\n",
    "\n",
    "    # Filter and trim lines with 'BindableFilter'\n",
    "    bindable_filters = [line.strip() for line in lines if \"BindableValues\" in line]\n",
    "\n",
    "    # Write to output file\n",
    "    with open(output_file, 'w') as outfile:\n",
    "        for line in bindable_filters:\n",
    "            outfile.write(line + '\\n')\n",
    "\n",
    "# Example usage\n",
    "extract_bindable_filters(\"../calcite_outputs/physical_plans.txt\", \"bindable_values.txt\")\n"
   ]
  },
  {
   "cell_type": "code",
   "execution_count": 12,
   "id": "863883e5-c6c5-4990-ac71-103d583494f8",
   "metadata": {},
   "outputs": [],
   "source": [
    "def extract_bindable_filters(input_file, output_file):\n",
    "    with open(input_file, 'r') as infile:\n",
    "        lines = infile.readlines()\n",
    "\n",
    "    # Filter and trim lines with 'BindableFilter'\n",
    "    bindable_filters = [line.strip() for line in lines if \"BindableProject\" in line]\n",
    "\n",
    "    # Write to output file\n",
    "    with open(output_file, 'w') as outfile:\n",
    "        for line in bindable_filters:\n",
    "            outfile.write(line + '\\n')\n",
    "\n",
    "# Example usage\n",
    "extract_bindable_filters(\"../calcite_outputs/physical_plans.txt\", \"bindable_project.txt\")\n"
   ]
  },
  {
   "cell_type": "code",
   "execution_count": 14,
   "id": "f602f961-9b44-4255-a2b9-1c8b5d8206cd",
   "metadata": {},
   "outputs": [],
   "source": [
    "def extract_bindable_filters(input_file, output_file):\n",
    "    with open(input_file, 'r') as infile:\n",
    "        lines = infile.readlines()\n",
    "\n",
    "    # Filter and trim lines with 'BindableFilter'\n",
    "    bindable_filters = [line.strip() for line in lines if \"BindableTableScan\" in line]\n",
    "\n",
    "    # Write to output file\n",
    "    with open(output_file, 'w') as outfile:\n",
    "        for line in bindable_filters:\n",
    "            outfile.write(line + '\\n')\n",
    "\n",
    "# Example usage\n",
    "extract_bindable_filters(\"../calcite_outputs/physical_plans.txt\", \"bindable_table_scan.txt\")\n"
   ]
  }
 ],
 "metadata": {
  "kernelspec": {
   "display_name": "Python [conda env:base] *",
   "language": "python",
   "name": "conda-base-py"
  },
  "language_info": {
   "codemirror_mode": {
    "name": "ipython",
    "version": 3
   },
   "file_extension": ".py",
   "mimetype": "text/x-python",
   "name": "python",
   "nbconvert_exporter": "python",
   "pygments_lexer": "ipython3",
   "version": "3.12.7"
  }
 },
 "nbformat": 4,
 "nbformat_minor": 5
}
